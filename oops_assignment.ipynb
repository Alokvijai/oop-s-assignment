{
  "nbformat": 4,
  "nbformat_minor": 0,
  "metadata": {
    "colab": {
      "provenance": []
    },
    "kernelspec": {
      "name": "python3",
      "display_name": "Python 3"
    },
    "language_info": {
      "name": "python"
    }
  },
  "cells": [
    {
      "cell_type": "markdown",
      "source": [
        "1.What is Object-Oriented Programming (OOP)?\n",
        "\n",
        "\n",
        "Object-Oriented Programming (OOP) is a programming paradigm based on the concept of objects, which are instances of classes that encapsulate data and behavior. It follows principles like encapsulation (hiding data within objects), inheritance (reusing code from parent classes), polymorphism (using a common interface for different data types), and abstraction (hiding complex implementation details). OOP makes code more modular, reusable, and easier to maintain, making it a popular choice for large-scale software development in languages like Java, Python, and C++.\n",
        "\n",
        "\n",
        "\n"
      ],
      "metadata": {
        "id": "p_M5BWORExZF"
      }
    },
    {
      "cell_type": "markdown",
      "source": [
        "2.What is a class in OOP?\n",
        "\n",
        "In Object-Oriented Programming (OOP), a class is a blueprint or template for creating objects. It defines the attributes (data) and methods (functions) that the objects created from the class will have. A class provides structure and organization to code, enabling reusability and modularity.For example, in this example Car is class"
      ],
      "metadata": {
        "id": "V13QPmOaFGY7"
      }
    },
    {
      "cell_type": "code",
      "execution_count": null,
      "metadata": {
        "colab": {
          "base_uri": "https://localhost:8080/"
        },
        "id": "6A3CRrYiEhRM",
        "outputId": "cb823e16-6366-46d1-8e8c-d867b0330628"
      },
      "outputs": [
        {
          "output_type": "stream",
          "name": "stdout",
          "text": [
            "Car: Toyota Corolla\n"
          ]
        }
      ],
      "source": [
        "class Car:\n",
        "    def __init__(self, brand, model):\n",
        "        self.brand = brand  # Attribute\n",
        "        self.model = model  # Attribute\n",
        "\n",
        "    def display_info(self):\n",
        "        print(f\"Car: {self.brand} {self.model}\")  # Method\n",
        "\n",
        "# Creating an object (instance) of the class\n",
        "car1 = Car(\"Toyota\", \"Corolla\")\n",
        "car1.display_info()  # Output: Car: Toyota Corolla\n"
      ]
    },
    {
      "cell_type": "markdown",
      "source": [
        "3.What is an object in OOP?\n",
        "\n",
        "In Object-Oriented Programming (OOP), an object is an instance of a class. It represents a real-world entity with attributes (data) and methods (functions) defined by its class. Objects allow programmers to create multiple independent entities based on the same blueprint (class).In the above example  car1 is object"
      ],
      "metadata": {
        "id": "EUwBAmXJFm_e"
      }
    },
    {
      "cell_type": "markdown",
      "source": [],
      "metadata": {
        "id": "2IulImTYElbt"
      }
    },
    {
      "cell_type": "markdown",
      "source": [
        "4.What is the difference between abstraction and encapsulation?\n",
        "\n",
        "Abstraction and Encapsulation are two fundamental concepts in Object-Oriented Programming (OOP), but they serve different purposes:\n",
        "\n",
        "Abstraction\n",
        "Focuses on hiding complexity and exposing only the essential features.\n",
        "It allows users to interact with an object without knowing its internal details.\n",
        "Achieved using abstract classes and interfaces in languages like Java and Python.\n",
        "Example: A car’s steering wheel and pedals let you drive without needing to know how the engine works internally"
      ],
      "metadata": {
        "id": "SkDyyt_WGJyj"
      }
    },
    {
      "cell_type": "code",
      "source": [
        "from abc import ABC, abstractmethod\n",
        "\n",
        "class Vehicle(ABC):  # Abstract class\n",
        "    @abstractmethod\n",
        "    def start_engine(self):\n",
        "        pass  # Abstract method\n",
        "\n",
        "class Car(Vehicle):\n",
        "    def start_engine(self):\n",
        "        print(\"Engine started with a key or button.\")\n",
        "\n",
        "car = Car()\n",
        "car.start_engine()\n"
      ],
      "metadata": {
        "colab": {
          "base_uri": "https://localhost:8080/"
        },
        "id": "SbQoFAOdHs9a",
        "outputId": "dadefab9-0891-4e44-f0de-7a224c3ba93a"
      },
      "execution_count": null,
      "outputs": [
        {
          "output_type": "stream",
          "name": "stdout",
          "text": [
            "Engine started with a key or button.\n"
          ]
        }
      ]
    },
    {
      "cell_type": "markdown",
      "source": [
        "Encapsulation:\n",
        "Focuses on hiding data by restricting direct access and allowing controlled modifications.\n",
        "It protects an object’s integrity by binding data and methods together in a single unit (class).\n",
        "Achieved using private and protected variables in Python (by using _ or __ prefixes).\n",
        "Example: The speedometer in a car prevents users from directly changing the car’s speed."
      ],
      "metadata": {
        "id": "RYyGY7JVH51-"
      }
    },
    {
      "cell_type": "code",
      "source": [
        "class Car:\n",
        "    def __init__(self, brand):\n",
        "        self.__brand = brand  # Private attribute\n",
        "\n",
        "    def get_brand(self):  # Getter method\n",
        "        return self.__brand\n",
        "\n",
        "    def set_brand(self, brand):  # Setter method\n",
        "        self.__brand = brand\n",
        "\n",
        "car = Car(\"Toyota\")\n",
        "print(car.get_brand())\n",
        "car.set_brand(\"Honda\")\n",
        "print(car.get_brand())\n"
      ],
      "metadata": {
        "colab": {
          "base_uri": "https://localhost:8080/"
        },
        "id": "akj9CEkqHxSG",
        "outputId": "33a8196b-ead0-4d08-921f-f61c08ac79f6"
      },
      "execution_count": null,
      "outputs": [
        {
          "output_type": "stream",
          "name": "stdout",
          "text": [
            "Toyota\n",
            "Honda\n"
          ]
        }
      ]
    },
    {
      "cell_type": "markdown",
      "source": [
        "5.What are dunder methods in Python?\n",
        "\n",
        "Dunder methods (short for \"Double Under\" methods) are special methods in Python that have double underscores (__) at the beginning and end of their names. These methods allow you to define how objects behave in different situations, such as initialization, string representation, comparisons, and arithmetic operations.\n",
        "\n"
      ],
      "metadata": {
        "id": "AwpceSwPIFKE"
      }
    },
    {
      "cell_type": "markdown",
      "source": [
        "6.Explain the concept of inheritance in OOP?\n",
        "\n",
        "Inheritance is an Object-Oriented Programming (OOP) concept where a child class (subclass) derives properties and behaviors (attributes and methods) from a parent class (superclass). This promotes code reusability, reduces redundancy, and helps in organizing code efficiently.\n",
        "\n",
        "\n",
        "\n",
        "Key Features of Inheritance\n",
        "\n",
        "Code Reusability – The child class inherits the methods and attributes of the parent class.\n",
        "\n",
        "Extensibility – The child class can override or extend the parent class’s functionality.\n",
        "\n",
        "Hierarchy – Multiple levels of inheritance can exist, forming a class hierarchy.\n"
      ],
      "metadata": {
        "id": "EW9eQkj1IlL7"
      }
    },
    {
      "cell_type": "markdown",
      "source": [
        "7.What is polymorphism in OOP?\n",
        "\n",
        "Polymorphism in Object-Oriented Programming (OOP) allows objects of different classes to be treated as instances of a common superclass, enabling a single interface to be used for different data types. It is mainly achieved through method overriding (where a subclass provides a different implementation of a parent class method) and method overloading (using the same method name with different parameters, though Python handles this with default arguments or *args). Additionally, operator overloading allows custom behaviors for operators (+, -, etc.) using dunder methods like __add__. Polymorphism enhances flexibility, code reusability, and scalability, making programs more adaptable and dynamic."
      ],
      "metadata": {
        "id": "-2jndE9uI196"
      }
    },
    {
      "cell_type": "markdown",
      "source": [
        "8.How is encapsulation achieved in Python?\n",
        "\n",
        "Encapsulation in Python is achieved by restricting direct access to class attributes using private (__attribute) and protected (_attribute) access specifiers, while providing controlled access through getter and setter methods. Private attributes cannot be accessed directly but can be modified using methods, ensuring data security and validation.\n",
        "\n",
        "For example:\n",
        "\n",
        "\n",
        "Here, __balance is a private variable, and we access it only through methods, ensuring data protection and controlled modification"
      ],
      "metadata": {
        "id": "Df7vmrTEJ67K"
      }
    },
    {
      "cell_type": "code",
      "source": [
        "class BankAccount:\n",
        "    def __init__(self, balance):\n",
        "        self.__balance = balance  # Private attribute\n",
        "\n",
        "    def get_balance(self):  # Getter\n",
        "        return self.__balance\n",
        "\n",
        "    def deposit(self, amount):  # Setter with validation\n",
        "        if amount > 0:\n",
        "            self.__balance += amount\n",
        "        return self.__balance\n",
        "\n",
        "account = BankAccount(1000)\n",
        "print(account.get_balance())\n",
        "print(account.deposit(500))\n"
      ],
      "metadata": {
        "colab": {
          "base_uri": "https://localhost:8080/"
        },
        "id": "WOIRUCVQIBKb",
        "outputId": "eb0faf08-4375-4b14-b37d-c61e7270cc1b"
      },
      "execution_count": null,
      "outputs": [
        {
          "output_type": "stream",
          "name": "stdout",
          "text": [
            "1000\n",
            "1500\n"
          ]
        }
      ]
    },
    {
      "cell_type": "markdown",
      "source": [
        "9.What is a constructor in Python?\n",
        "\n",
        "A constructor in Python is a special method called __init__, which gets executed automatically when an object of a class is created. It is used to initialize the attributes of the object.\n",
        "\n",
        "\n",
        "example:\n",
        "\n",
        "Here, __init__ initializes name and age when an object (person1) is created, making constructors essential for setting up object data efficiently."
      ],
      "metadata": {
        "id": "Ri6AVDbiKghH"
      }
    },
    {
      "cell_type": "code",
      "source": [
        "class Person:\n",
        "    def __init__(self, name, age):  # Constructor\n",
        "        self.name = name  # Initializing attributes\n",
        "        self.age = age\n",
        "\n",
        "    def display(self):\n",
        "        return f\"Name: {self.name}, Age: {self.age}\"\n",
        "\n",
        "person1 = Person(\"Alice\", 25)\n",
        "print(person1.display())\n"
      ],
      "metadata": {
        "colab": {
          "base_uri": "https://localhost:8080/"
        },
        "id": "D2zJyZ5_KPfM",
        "outputId": "4aa9975a-e82f-4d71-c9c0-770e56fc9320"
      },
      "execution_count": null,
      "outputs": [
        {
          "output_type": "stream",
          "name": "stdout",
          "text": [
            "Name: Alice, Age: 25\n"
          ]
        }
      ]
    },
    {
      "cell_type": "markdown",
      "source": [
        "10.What are class and static methods in Python?\n",
        "\n",
        "In Python, class methods and static methods are used for defining behaviors that do not depend on instance-specific data. A class method (@classmethod) takes cls as its first parameter, allowing it to modify class-level attributes, while a static method (@staticmethod) does not take self or cls and behaves like a regular function inside a class.\n",
        "\n",
        "example:\n",
        "\n",
        "Here, change_company modifies a class variable, while greet acts as a utility function unrelated to instance or class attributes."
      ],
      "metadata": {
        "id": "gLpNzJmYLN6x"
      }
    },
    {
      "cell_type": "code",
      "source": [
        "class Employee:\n",
        "    company = \"TechCorp\"  # Class attribute\n",
        "\n",
        "    @classmethod\n",
        "    def change_company(cls, new_company):  # Class method\n",
        "        cls.company = new_company\n",
        "\n",
        "    @staticmethod\n",
        "    def greet():  # Static method\n",
        "        return \"Welcome to the company!\"\n",
        "\n",
        "print(Employee.company)\n",
        "Employee.change_company(\"InnoTech\")\n",
        "print(Employee.company)\n",
        "print(Employee.greet())\n"
      ],
      "metadata": {
        "colab": {
          "base_uri": "https://localhost:8080/"
        },
        "id": "64X0KpXgKpsc",
        "outputId": "b2e12a53-6d88-4298-f25f-2201bc9367e9"
      },
      "execution_count": null,
      "outputs": [
        {
          "output_type": "stream",
          "name": "stdout",
          "text": [
            "TechCorp\n",
            "InnoTech\n",
            "Welcome to the company!\n"
          ]
        }
      ]
    },
    {
      "cell_type": "markdown",
      "source": [
        "11.What is method overloading in Python?\n",
        "\n",
        "\n",
        "Method overloading in Python allows multiple methods with the same name but different parameters, though Python does not support traditional overloading like Java or C++. Instead, it is achieved using default arguments or *args for flexible parameter handling.\n",
        "\n",
        "example:\n",
        "\n",
        "In this example, the add method can handle both two and three arguments, allowing for versatile function calls within the same method name."
      ],
      "metadata": {
        "id": "cbZnLzqpLw6K"
      }
    },
    {
      "cell_type": "code",
      "source": [
        "class MathOperations:\n",
        "    def add(self, a, b=0, c=0):  # Overloading using default arguments\n",
        "        return a + b + c\n",
        "\n",
        "math = MathOperations()\n",
        "print(math.add(2, 3))\n",
        "print(math.add(2, 3, 4))\n"
      ],
      "metadata": {
        "colab": {
          "base_uri": "https://localhost:8080/"
        },
        "id": "DX87caPYLXBT",
        "outputId": "c7bae57e-42f8-4edf-90d1-f1abdb5df7f2"
      },
      "execution_count": null,
      "outputs": [
        {
          "output_type": "stream",
          "name": "stdout",
          "text": [
            "5\n",
            "9\n"
          ]
        }
      ]
    },
    {
      "cell_type": "markdown",
      "source": [
        "12.What is method overriding in OOP?\n",
        "\n",
        "Method overriding in OOP allows a subclass to provide a specific implementation of a method that is already defined in its parent class. The overridden method in the child class must have the same name, parameters, and return type as the method in the parent class. This enables runtime polymorphism, allowing different behaviors for the same method name in different classes.\n",
        "\n",
        "\n",
        "for example:\n",
        "\n",
        "Here, the Dog class overrides the speak() method of the Animal class, providing its own behavior, making method overriding useful for customizing inherited methods in subclasses.\n",
        "\n"
      ],
      "metadata": {
        "id": "DLMLeAaCMKYB"
      }
    },
    {
      "cell_type": "code",
      "source": [
        "class Animal:\n",
        "    def speak(self):\n",
        "        return \"Animal makes a sound\"\n",
        "\n",
        "class Dog(Animal):\n",
        "    def speak(self):  # Overriding the parent method\n",
        "        return \"Bark!\"\n",
        "\n",
        "dog = Dog()\n",
        "print(dog.speak())\n"
      ],
      "metadata": {
        "colab": {
          "base_uri": "https://localhost:8080/"
        },
        "id": "p3-chQjeL4az",
        "outputId": "574a2506-63f4-4143-a554-89f9dde2e9ad"
      },
      "execution_count": null,
      "outputs": [
        {
          "output_type": "stream",
          "name": "stdout",
          "text": [
            "Bark!\n"
          ]
        }
      ]
    },
    {
      "cell_type": "markdown",
      "source": [
        "13.What is a property decorator in Python?\n",
        "\n",
        "The @property decorator in Python is used to define getter methods in a class, allowing attributes to be accessed like normal variables while maintaining encapsulation. It helps create read-only properties or control attribute access without explicitly calling methods. Additionally, @property can be used with @attribute.setter and @attribute.deleter to define setters and deleters for controlled modification and deletion of private attributes\n",
        "\n",
        "example:\n",
        "\n",
        "Here, @property allows salary to be accessed like a regular attribute while still enforcing validation rules through the setter method."
      ],
      "metadata": {
        "id": "s6W3h5nkMh7o"
      }
    },
    {
      "cell_type": "code",
      "source": [
        "class Employee:\n",
        "    def __init__(self, name, salary):\n",
        "        self.__salary = salary  # Private attribute\n",
        "\n",
        "    @property\n",
        "    def salary(self):  # Getter method\n",
        "        return self.__salary\n",
        "\n",
        "    @salary.setter\n",
        "    def salary(self, new_salary):  # Setter method\n",
        "        if new_salary > 0:\n",
        "            self.__salary = new_salary\n",
        "        else:\n",
        "            raise ValueError(\"Salary must be positive\")\n",
        "\n",
        "employee = Employee(\"John\", 5000)\n",
        "print(employee.salary)  # Accessing as an attribute\n",
        "employee.salary = 6000  # Updating using setter\n",
        "print(employee.salary)\n"
      ],
      "metadata": {
        "colab": {
          "base_uri": "https://localhost:8080/"
        },
        "id": "TGudxubTMZLy",
        "outputId": "e09ba3d6-3460-4e10-e35b-13bb208af5f2"
      },
      "execution_count": null,
      "outputs": [
        {
          "output_type": "stream",
          "name": "stdout",
          "text": [
            "5000\n",
            "6000\n"
          ]
        }
      ]
    },
    {
      "cell_type": "markdown",
      "source": [
        "14. Why is polymorphism important in OOP?\n",
        "\n",
        "Polymorphism is important in Object-Oriented Programming (OOP) because it allows objects of different classes to be treated as objects of a common superclass, enabling code reusability, flexibility, and scalability. It helps in designing loosely coupled systems, where a single interface can work with multiple data types, reducing dependency on specific implementations. Method overriding (runtime polymorphism) allows subclasses to provide their own version of inherited methods, and method overloading (compile-time polymorphism, simulated using default arguments or *args in Python) allows the same method to handle different input types or numbers of parameters. This makes code more modular and maintainable, as new functionalities can be added without modifying existing code."
      ],
      "metadata": {
        "id": "T09uVxv9NeJR"
      }
    },
    {
      "cell_type": "markdown",
      "source": [
        "15.What is an abstract class in Python?\n",
        "\n",
        "An abstract class in Python is a class that cannot be instantiated and is meant to be inherited by subclasses to enforce a structure. It contains abstract methods, which are defined but not implemented, requiring subclasses to provide their own implementations. Abstract classes are created using the ABC (Abstract Base Class) module and the @abstractmethod decorator\n",
        "\n",
        "example:\n",
        "\n",
        "\n",
        "Here, Animal is an abstract class with an abstract method speak(), which must be implemented in subclasses (Dog and Cat). Abstract classes ensure code consistency and structure, making them useful for defining blueprints for related classes"
      ],
      "metadata": {
        "id": "wBzj72ZANrHV"
      }
    },
    {
      "cell_type": "code",
      "source": [
        "from abc import ABC, abstractmethod\n",
        "\n",
        "class Animal(ABC):  # Abstract class\n",
        "    @abstractmethod\n",
        "    def speak(self):  # Abstract method (must be implemented in subclasses)\n",
        "        pass\n",
        "\n",
        "class Dog(Animal):\n",
        "    def speak(self):\n",
        "        return \"Bark!\"\n",
        "\n",
        "class Cat(Animal):\n",
        "    def speak(self):\n",
        "        return \"Meow!\"\n",
        "\n",
        "# animal = Animal()  # ❌ TypeError: Cannot instantiate an abstract class\n",
        "dog = Dog()\n",
        "print(dog.speak())\n"
      ],
      "metadata": {
        "colab": {
          "base_uri": "https://localhost:8080/"
        },
        "id": "ZuHPa81hNWQp",
        "outputId": "0641feb9-f960-427b-f639-a28b9314eefb"
      },
      "execution_count": null,
      "outputs": [
        {
          "output_type": "stream",
          "name": "stdout",
          "text": [
            "Bark!\n"
          ]
        }
      ]
    },
    {
      "cell_type": "markdown",
      "source": [
        "16.What are the advantages of OOP?\n",
        "\n",
        "Encapsulation:\n",
        "\n",
        "Protects data by restricting direct access to attributes and allowing controlled access via getter and setter methods.\n",
        "Example: Private variables (__var) in Python.\n",
        "\n",
        "Code Reusability (Inheritance):\n",
        "\n",
        "Allows new classes to reuse existing code from parent classes, reducing duplication.\n",
        "Example: A Vehicle class with a Car subclass inheriting common properties.\n",
        "\n",
        "Polymorphism:\n",
        "\n",
        "Enables using a common interface for different data types, improving flexibility.\n",
        "Example: A speak() method in a superclass used differently in Dog and Cat subclasses.\n",
        "\n",
        "Scalability and Maintainability:\n",
        "\n",
        "Modular code structure makes it easier to scale and maintain as projects grow.\n",
        "Abstraction:\n",
        "\n",
        "Hides unnecessary details, exposing only essential functionalities.\n",
        "Example: A Car class with a start_engine() method without showing internal mechanics.\n",
        "\n",
        "Better Code Organization:\n",
        "\n",
        "Classes group related attributes and methods, making large programs more structured and manageable.\n",
        "\n",
        "Improved Collaboration:\n",
        "\n",
        "OOP allows teams to work on different classes independently, improving development efficiency."
      ],
      "metadata": {
        "id": "F72TBAWoOK5v"
      }
    },
    {
      "cell_type": "markdown",
      "source": [
        "17.What is the difference between a class variable and an instance variable?\n",
        "\n",
        "\n",
        "A class variable is shared across all instances of a class, while an instance variable is unique to each object. Class variables are defined outside methods and belong to the class itself, whereas instance variables are defined inside the constructor (__init__) using self and belong to individual objects. Modifying a class variable affects all instances, whereas modifying an instance variable affects only that specific object."
      ],
      "metadata": {
        "id": "n7sRY9RKOtCf"
      }
    },
    {
      "cell_type": "markdown",
      "source": [
        "18.What is multiple inheritance in Python?\n",
        "\n",
        "Multiple inheritance is a feature in Python where a class can inherit from more than one parent class. This allows a child class to inherit attributes and methods from multiple sources, promoting code reusability and flexibility. However, it can lead to complexity, especially when dealing with the diamond problem (method resolution order issues), which Python handles using the C3 Linearization (MRO) algorithm\n",
        "\n",
        "example:\n",
        "\n",
        "Here, the Child class inherits from both Parent1 and Parent2, gaining access to methods from both classes. Multiple inheritance is useful when a class needs functionalities from multiple base classes but must be managed carefully to avoid conflicts."
      ],
      "metadata": {
        "id": "tNLrVbP-QAA-"
      }
    },
    {
      "cell_type": "code",
      "source": [
        "class Parent1:\n",
        "    def show(self):\n",
        "        return \"This is Parent1\"\n",
        "\n",
        "class Parent2:\n",
        "    def display(self):\n",
        "        return \"This is Parent2\"\n",
        "\n",
        "class Child(Parent1, Parent2):  # Multiple inheritance\n",
        "    def greet(self):\n",
        "        return \"Hello from Child\"\n",
        "\n",
        "child = Child()\n",
        "print(child.show())\n",
        "print(child.display())\n",
        "print(child.greet())\n"
      ],
      "metadata": {
        "colab": {
          "base_uri": "https://localhost:8080/"
        },
        "id": "VZ3hLcxNN6KB",
        "outputId": "83e128bc-ea62-4b0f-bf9d-bea2320c12b9"
      },
      "execution_count": null,
      "outputs": [
        {
          "output_type": "stream",
          "name": "stdout",
          "text": [
            "This is Parent1\n",
            "This is Parent2\n",
            "Hello from Child\n"
          ]
        }
      ]
    },
    {
      "cell_type": "markdown",
      "source": [
        "19. Explain the purpose of ‘’__str__’ and ‘__repr__’ ‘ methods in Python?\n",
        "\n",
        "Both __str__ and __repr__ are dunder (double underscore) methods in Python that control how objects are represented as strings.\n",
        "\n",
        "__str__ (str() - User-Friendly Representation)\n",
        "\n",
        "Returns a human-readable or informal string representation of an object.\n",
        "Used for displaying objects in a way that is easy to understand.\n",
        "Called when using print(obj) or str(obj).\n",
        "__repr__ (repr() - Developer-Friendly Representation)\n",
        "\n",
        "Returns a formal or debug-friendly string representation of an object.\n",
        "Used to recreate the object if passed to eval().\n",
        "Called when using repr(obj), or when inspecting objects in an interactive session"
      ],
      "metadata": {
        "id": "qLdXIhc6Qd5l"
      }
    },
    {
      "cell_type": "markdown",
      "source": [
        "20.What is the significance of the ‘super()’ function in Python?\n",
        "\n",
        "The super() function in Python is used to call a method from a parent (or superclass) within a child (or subclass). It is particularly useful in object-oriented programming (OOP) when working with inheritance.\n",
        "\n",
        "Significance of super()\n",
        "\n",
        "Access Parent Methods:\n",
        "\n",
        "It allows a child class to access methods or constructors of its parent class without needing to refer to the parent class explicitly.\n",
        "\n",
        "Avoids Redundant Code:\n",
        "\n",
        "If multiple child classes need to use the same logic from a parent class, super() ensures the code is reused efficiently.\n",
        "\n",
        "Supports Multiple Inheritance:\n",
        "\n",
        "In the case of multiple inheritance, super() helps resolve the Method Resolution Order (MRO) and ensures that the correct method from the class hierarchy is called.\n",
        "\n",
        "Makes Code Maintainable:\n",
        "\n",
        "Since super() dynamically determines the parent class, it is useful when the class structure changes, making code updates easier."
      ],
      "metadata": {
        "id": "ntkZP9muuT7S"
      }
    },
    {
      "cell_type": "markdown",
      "source": [
        "21.What is the significance of the __del__ method in Python?\n",
        "\n",
        "The __del__ method in Python is a destructor method that is automatically called when an object is about to be destroyed. It is primarily used for cleanup tasks such as releasing resources, closing files, or disconnecting from a database before the object is removed from memory.\n",
        "\n",
        "Significance of __del__\n",
        "\n",
        "Automatic Cleanup:\n",
        "\n",
        "Ensures that resources like open files, network connections, or database connections are properly closed when an object is no longer needed.\n",
        "\n",
        "Garbage Collection Support:\n",
        "\n",
        "Python’s garbage collector automatically calls __del__ when an object’s reference count drops to zero, helping in memory management.\n",
        "\n",
        "Handles Finalization Tasks:\n",
        "\n",
        "It allows developers to define what should happen before an object is deleted."
      ],
      "metadata": {
        "id": "nWFjjJ8Ju7mE"
      }
    },
    {
      "cell_type": "markdown",
      "source": [
        "22.What is the difference between @staticmethod and @classmethod in Python?\n",
        "\n",
        "The difference between @staticmethod and @classmethod in Python lies in how they interact with the class. A @staticmethod does not take any reference to the class (cls) or instance (self) and behaves like a regular function inside a class, useful for utility functions that don't modify class or instance attributes. A @classmethod, on the other hand, takes a reference to the class (cls) as its first parameter, allowing it to modify class-level attributes\n",
        "\n",
        "example:"
      ],
      "metadata": {
        "id": "ttyxMSBJvUrQ"
      }
    },
    {
      "cell_type": "code",
      "source": [
        "class Example:\n",
        "    class_var = \"Class Variable\"\n",
        "\n",
        "    @staticmethod\n",
        "    def static_method():\n",
        "        return \"I don’t access class or instance attributes\"\n",
        "\n",
        "    @classmethod\n",
        "    def class_method(cls):\n",
        "        return f\"I can access {cls.class_var}\"\n",
        "\n",
        "print(Example.static_method())\n",
        "print(Example.class_method())\n"
      ],
      "metadata": {
        "id": "0CTgqO1tQIVH",
        "colab": {
          "base_uri": "https://localhost:8080/"
        },
        "outputId": "12057506-342e-4615-caf3-899061c0ec55"
      },
      "execution_count": 1,
      "outputs": [
        {
          "output_type": "stream",
          "name": "stdout",
          "text": [
            "I don’t access class or instance attributes\n",
            "I can access Class Variable\n"
          ]
        }
      ]
    },
    {
      "cell_type": "markdown",
      "source": [
        "23.How does polymorphism work in Python with inheritance?\n",
        "\n",
        "Polymorphism in Python allows objects of different classes to be treated as objects of a common superclass. With inheritance, polymorphism enables subclasses to override or extend the behavior of methods defined in a parent class while maintaining a consistent interface.\n",
        "\n",
        "example:\n"
      ],
      "metadata": {
        "id": "2iJp8RPtvrzB"
      }
    },
    {
      "cell_type": "code",
      "source": [
        "class Animal:\n",
        "    def make_sound(self):\n",
        "        return \"Some generic sound\"\n",
        "\n",
        "class Dog(Animal):\n",
        "    def make_sound(self):  # Overriding the parent method\n",
        "        return \"Bark\"\n",
        "\n",
        "class Cat(Animal):\n",
        "    def make_sound(self):  # Overriding the parent method\n",
        "        return \"Meow\"\n",
        "\n",
        "# Polymorphic behavior\n",
        "animals = [Dog(), Cat(), Animal()]\n",
        "\n",
        "for animal in animals:\n",
        "    print(animal.make_sound())\n"
      ],
      "metadata": {
        "colab": {
          "base_uri": "https://localhost:8080/"
        },
        "id": "897G9NGqvffb",
        "outputId": "e81daee2-e33e-411d-c18b-c1dd5045e840"
      },
      "execution_count": 2,
      "outputs": [
        {
          "output_type": "stream",
          "name": "stdout",
          "text": [
            "Bark\n",
            "Meow\n",
            "Some generic sound\n"
          ]
        }
      ]
    },
    {
      "cell_type": "markdown",
      "source": [
        "24.What is method chaining in Python OOP?\n",
        "\n",
        "Method chaining in Python OOP allows multiple method calls on the same object in a single line by returning self from each method. This improves code readability and reduces the need for multiple statements. It is commonly used in fluent interfaces, builder patterns, and data processing\n",
        "\n",
        "example:\n",
        "\n",
        "Here, greet() and walk() return self, enabling method chaining to call multiple methods in one line"
      ],
      "metadata": {
        "id": "WBAy8-c5wIrJ"
      }
    },
    {
      "cell_type": "code",
      "source": [
        "class Person:\n",
        "    def __init__(self, name):\n",
        "        self.name = name\n",
        "        self.actions = []\n",
        "\n",
        "    def greet(self):\n",
        "        self.actions.append(f\"Hello, I am {self.name}\")\n",
        "        return self\n",
        "\n",
        "    def walk(self):\n",
        "        self.actions.append(f\"{self.name} is walking\")\n",
        "        return self\n",
        "\n",
        "    def show_actions(self):\n",
        "        print(\"\\n\".join(self.actions))\n",
        "\n",
        "# Using method chaining\n",
        "Person(\"John\").greet().walk().show_actions()\n"
      ],
      "metadata": {
        "colab": {
          "base_uri": "https://localhost:8080/"
        },
        "id": "IfiwJFd2v3K6",
        "outputId": "6014f767-a130-4427-ba24-dc8c6e622624"
      },
      "execution_count": 3,
      "outputs": [
        {
          "output_type": "stream",
          "name": "stdout",
          "text": [
            "Hello, I am John\n",
            "John is walking\n"
          ]
        }
      ]
    },
    {
      "cell_type": "markdown",
      "source": [
        "25.What is the purpose of the __call__ method in Python?\n",
        "\n",
        "The __call__ method in Python allows an instance of a class to be called like a function, making objects behave dynamically. This is useful for function-like behavior, custom decorators, and flexible APIs. When an object with __call__ is invoked using parentheses (e.g., obj()), Python automatically executes the __call__ method\n",
        "\n",
        "example:\n",
        "\n",
        "Here, add_five(10) calls __call__, adding 5 to 10. This makes objects functionally reusable while keeping state within the instance.\n",
        "\n",
        "\n",
        "\n",
        "\n",
        "\n",
        "\n",
        "\n",
        "\n"
      ],
      "metadata": {
        "id": "24iCKiA_wfYR"
      }
    },
    {
      "cell_type": "code",
      "source": [
        "class Adder:\n",
        "    def __init__(self, num):\n",
        "        self.num = num\n",
        "\n",
        "    def __call__(self, value):\n",
        "        return value + self.num\n",
        "\n",
        "add_five = Adder(5)\n",
        "print(add_five(10))"
      ],
      "metadata": {
        "colab": {
          "base_uri": "https://localhost:8080/"
        },
        "id": "1fvs3wTmwZiq",
        "outputId": "8ee8f9ac-0d87-47f9-eef7-163d34ba0a1e"
      },
      "execution_count": 4,
      "outputs": [
        {
          "output_type": "stream",
          "name": "stdout",
          "text": [
            "15\n"
          ]
        }
      ]
    },
    {
      "cell_type": "code",
      "source": [
        "# practical questions"
      ],
      "metadata": {
        "id": "I1xvIH1uw2ly"
      },
      "execution_count": 5,
      "outputs": []
    },
    {
      "cell_type": "code",
      "source": [
        "# 1. Create a parent class Animal with a method speak() that prints a generic message. Create a child class Dog\n",
        "# that overrides the speak() method to print \"Bark!\"."
      ],
      "metadata": {
        "id": "R-wND7FmxHRn"
      },
      "execution_count": null,
      "outputs": []
    },
    {
      "cell_type": "code",
      "source": [
        "from abc import ABC, abstractmethod\n",
        "\n",
        "class Animal(ABC):\n",
        "    @abstractmethod\n",
        "    def speak(self):\n",
        "        pass\n",
        "\n",
        "class Dog(Animal):\n",
        "    def speak(self):\n",
        "        print(\"Bark!\")\n",
        "\n",
        "# Example usage\n",
        "dog = Dog()\n",
        "dog.speak()\n"
      ],
      "metadata": {
        "colab": {
          "base_uri": "https://localhost:8080/"
        },
        "id": "ysduwrXmxM3Z",
        "outputId": "95cea475-7a16-42a6-b53a-08430f3f14b4"
      },
      "execution_count": 6,
      "outputs": [
        {
          "output_type": "stream",
          "name": "stdout",
          "text": [
            "Bark!\n"
          ]
        }
      ]
    },
    {
      "cell_type": "code",
      "source": [
        "# 2. Write a program to create an abstract class Shape with a method area(). Derive classes Circle and Rectangle\n",
        "# from it and implement the area() method in both."
      ],
      "metadata": {
        "id": "mH8k3ptrxNeK"
      },
      "execution_count": null,
      "outputs": []
    },
    {
      "cell_type": "code",
      "source": [
        "\n",
        "from abc import ABC, abstractmethod\n",
        "import math\n",
        "\n",
        "class Shape(ABC):\n",
        "    @abstractmethod\n",
        "    def area(self):\n",
        "        pass\n",
        "\n",
        "class Circle(Shape):\n",
        "    def __init__(self, radius):\n",
        "        self.radius = radius\n",
        "\n",
        "    def area(self):\n",
        "        return math.pi * self.radius**2\n",
        "\n",
        "class Rectangle(Shape):\n",
        "    def __init__(self, length, width):\n",
        "        self.length = length\n",
        "        self.width = width\n",
        "\n",
        "    def area(self):\n",
        "        return self.length * self.width\n",
        "\n",
        "# Example usage\n",
        "circle = Circle(5)\n",
        "print(\"Circle area:\", circle.area())\n",
        "\n",
        "rectangle = Rectangle(4, 6)\n",
        "print(\"Rectangle area:\", rectangle.area())"
      ],
      "metadata": {
        "colab": {
          "base_uri": "https://localhost:8080/"
        },
        "id": "Az-1rt9GxcIH",
        "outputId": "53ae9876-1e4b-4a31-9e18-49e2bbe325dd"
      },
      "execution_count": 7,
      "outputs": [
        {
          "output_type": "stream",
          "name": "stdout",
          "text": [
            "Circle area: 78.53981633974483\n",
            "Rectangle area: 24\n"
          ]
        }
      ]
    },
    {
      "cell_type": "code",
      "source": [
        "# 3. Implement a multi-level inheritance scenario where a class Vehicle has an attribute type. Derive a class Car\n",
        "# and further derive a class ElectricCar that adds a battery attribute."
      ],
      "metadata": {
        "id": "5fEIUSzNxc7A"
      },
      "execution_count": null,
      "outputs": []
    },
    {
      "cell_type": "code",
      "source": [
        "class Vehicle:\n",
        "    def __init__(self, type):\n",
        "        self.type = type\n",
        "\n",
        "class Car(Vehicle):\n",
        "    def __init__(self, type, model):\n",
        "        super().__init__(type)\n",
        "        self.model = model\n",
        "\n",
        "class ElectricCar(Car):\n",
        "    def __init__(self, type, model, battery):\n",
        "        super().__init__(type, model)\n",
        "        self.battery = battery\n",
        "\n",
        "# Example usage\n",
        "electric_car = ElectricCar(\"Electric\", \"Tesla Model S\", \"100kWh\")\n",
        "print(f\"Vehicle Type: {electric_car.type}\")\n",
        "print(f\"Car Model: {electric_car.model}\")\n",
        "print(f\"Battery Capacity: {electric_car.battery}\")"
      ],
      "metadata": {
        "colab": {
          "base_uri": "https://localhost:8080/"
        },
        "id": "G1kdcNBixoHA",
        "outputId": "a0f9df3d-62f9-4a13-9c4d-aa5c877b160e"
      },
      "execution_count": 8,
      "outputs": [
        {
          "output_type": "stream",
          "name": "stdout",
          "text": [
            "Vehicle Type: Electric\n",
            "Car Model: Tesla Model S\n",
            "Battery Capacity: 100kWh\n"
          ]
        }
      ]
    },
    {
      "cell_type": "code",
      "source": [
        "# 4.mplement a multi-level inheritance scenario where a class Vehicle has an attribute type. Derive a class Car\n",
        "# and further derive a class ElectricCar that adds a battery attribute."
      ],
      "metadata": {
        "id": "Xrs4jcq6xpAh"
      },
      "execution_count": null,
      "outputs": []
    },
    {
      "cell_type": "code",
      "source": [
        "class Vehicle:\n",
        "    def __init__(self, type):\n",
        "        self.type = type\n",
        "\n",
        "class Car(Vehicle):\n",
        "    def __init__(self, type, model):\n",
        "        super().__init__(type)\n",
        "        self.model = model\n",
        "\n",
        "class ElectricCar(Car):\n",
        "    def __init__(self, type, model, battery):\n",
        "        super().__init__(type, model)\n",
        "        self.battery = battery\n",
        "\n",
        "# Example usage\n",
        "electric_car = ElectricCar(\"Electric\", \"Tesla Model S\", \"100kWh\")\n",
        "print(f\"Vehicle Type: {electric_car.type}\")\n",
        "print(f\"Car Model: {electric_car.model}\")\n",
        "print(f\"Battery Capacity: {electric_car.battery}\")"
      ],
      "metadata": {
        "colab": {
          "base_uri": "https://localhost:8080/"
        },
        "id": "xw1OQLVnx0oY",
        "outputId": "e3a39f05-9f8c-4ae2-fe7e-e58340c3118b"
      },
      "execution_count": 9,
      "outputs": [
        {
          "output_type": "stream",
          "name": "stdout",
          "text": [
            "Vehicle Type: Electric\n",
            "Car Model: Tesla Model S\n",
            "Battery Capacity: 100kWh\n"
          ]
        }
      ]
    },
    {
      "cell_type": "code",
      "source": [
        "# 5.Write a program to demonstrate encapsulation by creating a class BankAccount with private attributes\n",
        "# balance and methods to deposit, withdraw, and check balance."
      ],
      "metadata": {
        "id": "a3dfnNzIx1Y3"
      },
      "execution_count": null,
      "outputs": []
    },
    {
      "cell_type": "code",
      "source": [
        "class BankAccount:\n",
        "    def __init__(self, initial_balance=0):\n",
        "        self.__balance = initial_balance  # Private attribute\n",
        "\n",
        "    def deposit(self, amount):\n",
        "        if amount > 0:\n",
        "            self.__balance += amount\n",
        "            print(f\"Deposited ${amount}. New balance: ${self.__balance}\")\n",
        "        else:\n",
        "            print(\"Invalid deposit amount.\")\n",
        "\n",
        "    def withdraw(self, amount):\n",
        "        if 0 < amount <= self.__balance:\n",
        "            self.__balance -= amount\n",
        "            print(f\"Withdrew ${amount}. New balance: ${self.__balance}\")\n",
        "        else:\n",
        "            print(\"Insufficient funds or invalid withdrawal amount.\")\n",
        "\n",
        "    def check_balance(self):\n",
        "        print(f\"Current balance: ${self.__balance}\")\n",
        "\n",
        "# Example usage\n",
        "account = BankAccount(1000)\n",
        "account.deposit(500)\n",
        "account.withdraw(200)\n",
        "account.check_balance()\n",
        "account.withdraw(1500)"
      ],
      "metadata": {
        "colab": {
          "base_uri": "https://localhost:8080/"
        },
        "id": "m8PcwhF-yC0X",
        "outputId": "35de6294-101d-437d-9628-ff5511ac3b2f"
      },
      "execution_count": 10,
      "outputs": [
        {
          "output_type": "stream",
          "name": "stdout",
          "text": [
            "Deposited $500. New balance: $1500\n",
            "Withdrew $200. New balance: $1300\n",
            "Current balance: $1300\n",
            "Insufficient funds or invalid withdrawal amount.\n"
          ]
        }
      ]
    },
    {
      "cell_type": "code",
      "source": [
        "# 6.Demonstrate runtime polymorphism using a method play() in a base class Instrument. Derive classes Guitar\n",
        "# and Piano that implement their own version of play()."
      ],
      "metadata": {
        "id": "jd1FOnmVyDix"
      },
      "execution_count": null,
      "outputs": []
    },
    {
      "cell_type": "code",
      "source": [
        "from abc import ABC, abstractmethod\n",
        "\n",
        "class Instrument(ABC):\n",
        "    @abstractmethod\n",
        "    def play(self):\n",
        "        pass\n",
        "\n",
        "class Guitar(Instrument):\n",
        "    def play(self):\n",
        "        print(\"Playing the guitar\")\n",
        "\n",
        "class Piano(Instrument):\n",
        "    def play(self):\n",
        "        print(\"Playing the piano\")\n",
        "\n",
        "# Example usage\n",
        "guitar = Guitar()\n",
        "guitar.play()\n",
        "\n",
        "piano = Piano()\n",
        "piano.play()\n"
      ],
      "metadata": {
        "colab": {
          "base_uri": "https://localhost:8080/"
        },
        "id": "nX8uTOLWyNk7",
        "outputId": "cc8f3de9-1e64-4b0a-a30d-f118df934b52"
      },
      "execution_count": 11,
      "outputs": [
        {
          "output_type": "stream",
          "name": "stdout",
          "text": [
            "Playing the guitar\n",
            "Playing the piano\n"
          ]
        }
      ]
    },
    {
      "cell_type": "code",
      "source": [
        "# 7. Create a class MathOperations with a class method add_numbers() to add two numbers and a static\n",
        "# method subtract_numbers() to subtract two numbers."
      ],
      "metadata": {
        "id": "o4ATQ2XRyOgI"
      },
      "execution_count": null,
      "outputs": []
    },
    {
      "cell_type": "code",
      "source": [
        "class MathOperations:\n",
        "    @classmethod\n",
        "    def add_numbers(cls, x, y):\n",
        "        return x + y\n",
        "\n",
        "    @staticmethod\n",
        "    def subtract_numbers(x, y):\n",
        "        return x - y"
      ],
      "metadata": {
        "id": "N9h9uQzMyaa_"
      },
      "execution_count": 13,
      "outputs": []
    },
    {
      "cell_type": "code",
      "source": [
        "MathOperations.add_numbers(5, 3)"
      ],
      "metadata": {
        "colab": {
          "base_uri": "https://localhost:8080/"
        },
        "id": "OG4e-Ms5ykdf",
        "outputId": "6ba80fd0-7cee-4ea8-d5a6-027962da432d"
      },
      "execution_count": 14,
      "outputs": [
        {
          "output_type": "execute_result",
          "data": {
            "text/plain": [
              "8"
            ]
          },
          "metadata": {},
          "execution_count": 14
        }
      ]
    },
    {
      "cell_type": "code",
      "source": [
        "MathOperations.subtract_numbers(10, 4)"
      ],
      "metadata": {
        "colab": {
          "base_uri": "https://localhost:8080/"
        },
        "id": "QV4DAGZwyreQ",
        "outputId": "72b170b0-f063-49cf-ff0e-d5d1b431980b"
      },
      "execution_count": 15,
      "outputs": [
        {
          "output_type": "execute_result",
          "data": {
            "text/plain": [
              "6"
            ]
          },
          "metadata": {},
          "execution_count": 15
        }
      ]
    },
    {
      "cell_type": "code",
      "source": [
        "# 8.Implement a class Person with a class method to count the total number of persons created."
      ],
      "metadata": {
        "id": "zA8dJ0GYyuDG"
      },
      "execution_count": 16,
      "outputs": []
    },
    {
      "cell_type": "code",
      "source": [
        "class Person:\n",
        "    total_persons = 0  # Class variable to count persons\n",
        "\n",
        "    def __init__(self, name):\n",
        "        self.name = name\n",
        "        Person.total_persons += 1  # Increment count when a person is created\n",
        "\n",
        "    @classmethod\n",
        "    def get_total_persons(cls):\n",
        "        return cls.total_persons\n",
        "\n",
        "# Example usage\n",
        "person1 = Person(\"Alice\")\n",
        "person2 = Person(\"Bob\")\n",
        "person3 = Person(\"Charlie\")\n",
        "\n",
        "print(f\"Total persons created: {Person.get_total_persons()}\")"
      ],
      "metadata": {
        "colab": {
          "base_uri": "https://localhost:8080/"
        },
        "id": "wqas_XXny4yO",
        "outputId": "3179e5b5-4f60-4c80-91b5-b0a940771c57"
      },
      "execution_count": 17,
      "outputs": [
        {
          "output_type": "stream",
          "name": "stdout",
          "text": [
            "Total persons created: 3\n"
          ]
        }
      ]
    },
    {
      "cell_type": "code",
      "source": [
        "# 9. Write a class Fraction with attributes numerator and denominator. Override the str method to display the\n",
        "# fraction as \"numerator/denominator\"."
      ],
      "metadata": {
        "id": "6WZN71Yey5VG"
      },
      "execution_count": null,
      "outputs": []
    },
    {
      "cell_type": "code",
      "source": [
        "class Fraction:\n",
        "    def __init__(self, numerator, denominator):\n",
        "        self.numerator = numerator\n",
        "        self.denominator = denominator\n",
        "\n",
        "    def __str__(self):\n",
        "        return f\"{self.numerator}/{self.denominator}\"\n",
        "\n",
        "# Example usage\n",
        "fraction = Fraction(3, 4)\n",
        "print(fraction)"
      ],
      "metadata": {
        "colab": {
          "base_uri": "https://localhost:8080/"
        },
        "id": "ONZOfV9GzEMO",
        "outputId": "1fe7a5aa-ddb7-42d3-b49d-760b51698143"
      },
      "execution_count": 18,
      "outputs": [
        {
          "output_type": "stream",
          "name": "stdout",
          "text": [
            "3/4\n"
          ]
        }
      ]
    },
    {
      "cell_type": "code",
      "source": [
        "# 10. Demonstrate operator overloading by creating a class Vector and overriding the add method to add two\n",
        "# vectors."
      ],
      "metadata": {
        "id": "jy1y4BgJzE03"
      },
      "execution_count": null,
      "outputs": []
    },
    {
      "cell_type": "code",
      "source": [
        "class Vector:\n",
        "    def __init__(self, x, y):\n",
        "        self.x = x\n",
        "        self.y = y\n",
        "\n",
        "    def __add__(self, other):\n",
        "        return Vector(self.x + other.x, self.y + other.y)\n",
        "\n",
        "    def __str__(self):\n",
        "        return f\"({self.x}, {self.y})\"\n",
        "\n",
        "# Example usage\n",
        "v1 = Vector(2, 3)\n",
        "v2 = Vector(4, 1)\n",
        "v3 = v1 + v2\n",
        "print(v3)"
      ],
      "metadata": {
        "colab": {
          "base_uri": "https://localhost:8080/"
        },
        "id": "JNG_NMj_zRMm",
        "outputId": "82d81443-5643-407e-e5f3-d5f1eef506cf"
      },
      "execution_count": 19,
      "outputs": [
        {
          "output_type": "stream",
          "name": "stdout",
          "text": [
            "(6, 4)\n"
          ]
        }
      ]
    },
    {
      "cell_type": "code",
      "source": [
        "# 11. Create a class Person with attributes name and age. Add a method greet() that prints \"Hello, my name is\n",
        "# {name} and I am {age} years old.\""
      ],
      "metadata": {
        "id": "0iRE3rT7zSV-"
      },
      "execution_count": null,
      "outputs": []
    },
    {
      "cell_type": "code",
      "source": [
        "\n",
        "class Person:\n",
        "    def __init__(self, name, age):\n",
        "        self.name = name\n",
        "        self.age = age\n",
        "\n",
        "    def greet(self):\n",
        "        print(f\"Hello, my name is {self.name} and I am {self.age} years old.\")"
      ],
      "metadata": {
        "id": "24BasHFZzbLe"
      },
      "execution_count": 20,
      "outputs": []
    },
    {
      "cell_type": "code",
      "source": [
        "Person(\"John\", 25).greet()"
      ],
      "metadata": {
        "colab": {
          "base_uri": "https://localhost:8080/"
        },
        "id": "kG8Nt-HHzb6G",
        "outputId": "2f0a8271-6ca4-4f9e-b809-e38b0745df76"
      },
      "execution_count": 21,
      "outputs": [
        {
          "output_type": "stream",
          "name": "stdout",
          "text": [
            "Hello, my name is John and I am 25 years old.\n"
          ]
        }
      ]
    },
    {
      "cell_type": "code",
      "source": [
        "# 12. Implement a class Student with attributes name and grades. Create a method average_grade() to compute\n",
        "# the average of the grades."
      ],
      "metadata": {
        "id": "jGsCYWnqzgkn"
      },
      "execution_count": null,
      "outputs": []
    },
    {
      "cell_type": "code",
      "source": [
        "class Student:\n",
        "    def __init__(self, name, grades):\n",
        "        self.name = name\n",
        "        self.grades = grades\n",
        "\n",
        "    def average_grade(self):\n",
        "        if not self.grades:\n",
        "            return 0  # Handle empty grades list\n",
        "        return sum(self.grades) / len(self.grades)"
      ],
      "metadata": {
        "id": "LaBh9e04zo2d"
      },
      "execution_count": 22,
      "outputs": []
    },
    {
      "cell_type": "code",
      "source": [
        "# 13.Create a class Rectangle with methods set_dimensions() to set the dimensions and area() to calculate the\n",
        "# area."
      ],
      "metadata": {
        "id": "_YGd7jQgzpx1"
      },
      "execution_count": null,
      "outputs": []
    },
    {
      "cell_type": "code",
      "source": [
        "class Rectangle:\n",
        "    def __init__(self):\n",
        "        self.length = 0\n",
        "        self.width = 0\n",
        "\n",
        "    def set_dimensions(self, length, width):\n",
        "        self.length = length\n",
        "        self.width = width\n",
        "\n",
        "    def area(self):\n",
        "        return self.length * self.width"
      ],
      "metadata": {
        "id": "2wR5rYIlz2a1"
      },
      "execution_count": 23,
      "outputs": []
    },
    {
      "cell_type": "code",
      "source": [
        "# 14.Create a class Employee with a method calculate_salary() that computes the salary based on hours worked\n",
        "# and hourly rate. Create a derived class Manager that adds a bonus to the salary"
      ],
      "metadata": {
        "id": "D2xv8c6Kz3HG"
      },
      "execution_count": null,
      "outputs": []
    },
    {
      "cell_type": "code",
      "source": [
        "class Employee:\n",
        "    def __init__(self, hours_worked, hourly_rate):\n",
        "        self.hours_worked = hours_worked\n",
        "        self.hourly_rate = hourly_rate\n",
        "\n",
        "    def calculate_salary(self):\n",
        "        return self.hours_worked * self.hourly_rate\n",
        "\n",
        "class Manager(Employee):\n",
        "    def __init__(self, hours_worked, hourly_rate, bonus):\n",
        "        super().__init__(hours_worked, hourly_rate)\n",
        "        self.bonus = bonus\n",
        "\n",
        "    def calculate_salary(self):\n",
        "        return super().calculate_salary() + self.bonus\n",
        "\n",
        "# Example usage\n",
        "employee = Employee(40, 20)\n",
        "print(f\"Employee salary: {employee.calculate_salary()}\")\n",
        "\n",
        "manager = Manager(40, 30, 1000)\n",
        "print(f\"Manager salary: {manager.calculate_salary()}\")"
      ],
      "metadata": {
        "colab": {
          "base_uri": "https://localhost:8080/"
        },
        "id": "uJ0OnSEF0D79",
        "outputId": "e8108cc8-9450-468b-fd56-604cc64728db"
      },
      "execution_count": 24,
      "outputs": [
        {
          "output_type": "stream",
          "name": "stdout",
          "text": [
            "Employee salary: 800\n",
            "Manager salary: 2200\n"
          ]
        }
      ]
    },
    {
      "cell_type": "code",
      "source": [
        "# 15.Create a class Product with attributes name, price, and quantity. Implement a method total_price() that\n",
        "# calculates the total price of the product."
      ],
      "metadata": {
        "id": "mvUnwO9G0EzO"
      },
      "execution_count": null,
      "outputs": []
    },
    {
      "cell_type": "code",
      "source": [
        "\n",
        "class Product:\n",
        "    def __init__(self, name, price, quantity):\n",
        "        self.name = name\n",
        "        self.price = price\n",
        "        self.quantity = quantity\n",
        "\n",
        "    def total_price(self):\n",
        "        return self.price * self.quantity\n"
      ],
      "metadata": {
        "id": "c3QC2NLa0MNP"
      },
      "execution_count": 25,
      "outputs": []
    },
    {
      "cell_type": "code",
      "source": [
        "# 16.Create a class Animal with an abstract method sound(). Create two derived classes Cow and Sheep that\n",
        "# implement the sound() method."
      ],
      "metadata": {
        "id": "2pSKQTyg0Myt"
      },
      "execution_count": null,
      "outputs": []
    },
    {
      "cell_type": "code",
      "source": [
        "from abc import ABC, abstractmethod\n",
        "\n",
        "class Animal(ABC):\n",
        "    @abstractmethod\n",
        "    def sound(self):\n",
        "        pass\n",
        "\n",
        "class Cow(Animal):\n",
        "    def sound(self):\n",
        "        print(\"Moo\")\n",
        "\n",
        "class Sheep(Animal):\n",
        "    def sound(self):\n",
        "        print(\"Baa\")\n",
        "\n",
        "# Example usage\n",
        "cow = Cow()\n",
        "cow.sound()\n",
        "\n",
        "sheep = Sheep()\n",
        "sheep.sound()"
      ],
      "metadata": {
        "colab": {
          "base_uri": "https://localhost:8080/"
        },
        "id": "n6WNk5x80Vc9",
        "outputId": "fd5d3ea6-81ee-4899-915e-bec5b06a0826"
      },
      "execution_count": 26,
      "outputs": [
        {
          "output_type": "stream",
          "name": "stdout",
          "text": [
            "Moo\n",
            "Baa\n"
          ]
        }
      ]
    },
    {
      "cell_type": "code",
      "source": [
        "# 17.Create a class Book with attributes title, author, and year_published. Add a method get_book_info() that\n",
        "# returns a formatted string with the book's details"
      ],
      "metadata": {
        "id": "fNndOCtN0WBG"
      },
      "execution_count": null,
      "outputs": []
    },
    {
      "cell_type": "code",
      "source": [
        "class Book:\n",
        "    def __init__(self, title, author, year_published):\n",
        "        self.title = title\n",
        "        self.author = author\n",
        "        self.year_published = year_published\n",
        "\n",
        "    def get_book_info(self):\n",
        "        return f\"Title: {self.title}\\nAuthor: {self.author}\\nYear Published: {self.year_published}\""
      ],
      "metadata": {
        "id": "_4Up0Fq30eSK"
      },
      "execution_count": 27,
      "outputs": []
    },
    {
      "cell_type": "code",
      "source": [
        "# 18.Create a class House with attributes address and price. Create a derived class Mansion that adds an\n",
        "# attribute number_of_rooms."
      ],
      "metadata": {
        "id": "4DPKGEXy0ez2"
      },
      "execution_count": null,
      "outputs": []
    },
    {
      "cell_type": "code",
      "source": [
        "class House:\n",
        "    def __init__(self, address, price):\n",
        "        self.address = address\n",
        "        self.price = price\n",
        "\n",
        "class Mansion(House):\n",
        "    def __init__(self, address, price, number_of_rooms):\n",
        "        super().__init__(address, price)\n",
        "        self.number_of_rooms = number_of_rooms"
      ],
      "metadata": {
        "id": "CpIXx7e50mzS"
      },
      "execution_count": 28,
      "outputs": []
    },
    {
      "cell_type": "code",
      "source": [],
      "metadata": {
        "id": "RBrh2bAc0nbd"
      },
      "execution_count": null,
      "outputs": []
    }
  ]
}